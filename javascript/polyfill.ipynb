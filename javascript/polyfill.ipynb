{
 "cells": [
  {
   "cell_type": "markdown",
   "metadata": {},
   "source": [
    "We can declare own created array methods for our ease of use"
   ]
  },
  {
   "cell_type": "code",
   "execution_count": 1,
   "metadata": {
    "vscode": {
     "languageId": "javascript"
    }
   },
   "outputs": [
    {
     "name": "stdout",
     "output_type": "stream",
     "text": [
      "[]\n"
     ]
    }
   ],
   "source": [
    "%%script node\n",
    "\n",
    "\n",
    "Array.prototype.myMap = (cb) => {\n",
    "  let temp = [];\n",
    "  for (let i = 0; i < this.length; i++) {\n",
    "    temp.push(cb(this[i], i, this))\n",
    "  }\n",
    "  return temp;\n",
    "}\n",
    "\n",
    "const arr = [1, 2, 3, 4, 4];\n",
    "const multiplyTen = arr.myMap((ele) => {\n",
    "  return ele * 10;\n",
    "})\n",
    "console.log(multiply);"
   ]
  }
 ],
 "metadata": {
  "kernelspec": {
   "display_name": "Python 3",
   "language": "python",
   "name": "python3"
  },
  "language_info": {
   "codemirror_mode": {
    "name": "ipython",
    "version": 3
   },
   "file_extension": ".py",
   "mimetype": "text/x-python",
   "name": "python",
   "nbconvert_exporter": "python",
   "pygments_lexer": "ipython3",
   "version": "3.12.1"
  }
 },
 "nbformat": 4,
 "nbformat_minor": 2
}
