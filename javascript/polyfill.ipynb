{
 "cells": [
  {
   "cell_type": "markdown",
   "metadata": {},
   "source": [
    "Polyfill : We can declare own created array methods for our ease of use"
   ]
  },
  {
   "cell_type": "code",
   "execution_count": 7,
   "metadata": {
    "vscode": {
     "languageId": "javascript"
    }
   },
   "outputs": [
    {
     "name": "stdout",
     "output_type": "stream",
     "text": [
      "\u001b[33m14\u001b[39m\n"
     ]
    }
   ],
   "source": [
    "%%script node\n",
    "\n",
    "\n",
    "Array.prototype.myMap = function (cb) {\n",
    "  let temp = [];\n",
    "  for (let i = 0; i < this.length; i++) {\n",
    "    const element = this[i];\n",
    "    temp.push(cb(element, i, this));\n",
    "  }\n",
    "  return temp;\n",
    "}\n",
    "\n",
    "Array.prototype.myFilter = function (cb) {\n",
    "  let temp = [];\n",
    "  for (let i = 0; i < this.length; i++) {\n",
    "    const element = this[i];\n",
    "    if (cb(element, i, this)) {\n",
    "      temp.push(element);\n",
    "    }\n",
    "  }\n",
    "  return temp;\n",
    "}\n",
    "\n",
    "Array.prototype.myReduce = function (cb, initialVal) {\n",
    "  let acc = initialVal;\n",
    "  for (let i = 0; i < this.length; i++) {\n",
    "    const element = this[i];\n",
    "    acc = acc ? cb(acc, element, i, this) : element;\n",
    "  }\n",
    "  return acc;\n",
    "}\n",
    "\n",
    "const arr = [1, 2, 3, 4, 4];\n",
    "const multiplyTen = arr.myReduce((acc, ele) => acc + ele, 0);\n",
    "console.log(multiplyTen);"
   ]
  },
  {
   "cell_type": "markdown",
   "metadata": {},
   "source": [
    "map vs forEach loop"
   ]
  },
  {
   "cell_type": "code",
   "execution_count": 10,
   "metadata": {
    "vscode": {
     "languageId": "javascript"
    }
   },
   "outputs": [
    {
     "name": "stdout",
     "output_type": "stream",
     "text": [
      "[ \u001b[33m2\u001b[39m, \u001b[33m3\u001b[39m, \u001b[33m4\u001b[39m, \u001b[33m5\u001b[39m, \u001b[33m6\u001b[39m ]\n",
      "\u001b[90mundefined\u001b[39m\n",
      "[ \u001b[33m2\u001b[39m, \u001b[33m3\u001b[39m, \u001b[33m4\u001b[39m, \u001b[33m5\u001b[39m, \u001b[33m6\u001b[39m ]\n"
     ]
    }
   ],
   "source": [
    "%%script Node\n",
    "\n",
    "const arr = [1,2,3,4,5];\n",
    "\n",
    "const newArr = arr.map((ele) => ele + 1);\n",
    "\n",
    "const newArr2 = arr.forEach((ele, i) => {\n",
    "  arr[i] = ele + 1;\n",
    "});\n",
    "\n",
    "console.log(newArr);\n",
    "console.log(newArr2);\n",
    "console.log(arr);"
   ]
  },
  {
   "cell_type": "markdown",
   "metadata": {},
   "source": [
    "Output based questions"
   ]
  },
  {
   "cell_type": "code",
   "execution_count": 24,
   "metadata": {
    "vscode": {
     "languageId": "javascript"
    }
   },
   "outputs": [
    {
     "name": "stdout",
     "output_type": "stream",
     "text": [
      "{ names: [ \u001b[32m'PIYUSH'\u001b[39m, \u001b[32m'JENNY'\u001b[39m, \u001b[32m'KAUSHAL'\u001b[39m, \u001b[32m'DILPREET'\u001b[39m ] }\n",
      "{\n",
      "  studentMoreThanSixty: [\n",
      "    { name: \u001b[32m'piyush'\u001b[39m, rollNumber: \u001b[33m31\u001b[39m, marks: \u001b[33m80\u001b[39m },\n",
      "    { name: \u001b[32m'jenny'\u001b[39m, rollNumber: \u001b[33m15\u001b[39m, marks: \u001b[33m69\u001b[39m }\n",
      "  ]\n",
      "}\n",
      "{ filteredStudents: [ { name: \u001b[32m'piyush'\u001b[39m, rollNumber: \u001b[33m31\u001b[39m, marks: \u001b[33m80\u001b[39m } ] }\n",
      "{ sumOfMarks: \u001b[33m239\u001b[39m }\n",
      "{ namesMoreThanSixty: [ \u001b[32m'piyush'\u001b[39m, \u001b[32m'jenny'\u001b[39m ] }\n",
      "{ totalMarks: \u001b[33m224\u001b[39m }\n"
     ]
    }
   ],
   "source": [
    "%%script Node\n",
    "\n",
    "let students = [\n",
    "  { name: \"piyush\", rollNumber: 31, marks: 80 },\n",
    "  { name: \"jenny\", rollNumber: 15, marks: 69 },\n",
    "  { name: \"Kaushal\", rollNumber: 16, marks: 35 },\n",
    "  { name: \"Dilpreet\", rollNumber: 7, marks: 55 }\n",
    "];\n",
    "\n",
    "// Q. Return the name of the students in capital \n",
    "\n",
    "let names = students.map((student)=> student.name.toUpperCase());\n",
    "\n",
    "console.log({ names });\n",
    "\n",
    "// Q. Return only details of those who scored more than 60 marks\n",
    "\n",
    "const studentMoreThanSixty = students.filter((student)=> student.marks > 60);\n",
    "\n",
    "console.log({ studentMoreThanSixty });\n",
    "\n",
    "// Q. Return students , more than 60 marks and rollNumber greater than 15\n",
    "\n",
    "const filteredStudents = students.filter((student)=> student.marks > 60 && student.rollNumber > 15);\n",
    "\n",
    "console.log({ filteredStudents });\n",
    "\n",
    "// Q. Sum of marks of all Students\n",
    "\n",
    "const sumOfMarks = students.reduce((acc, student)=> acc + student.marks, 0);\n",
    "\n",
    "console.log({ sumOfMarks });\n",
    "\n",
    "// Q. Return only names of students who scored more than 60\n",
    "\n",
    "const namesMoreThanSixty = students.filter((student)=> student.marks > 60).map((student)=> student.name);\n",
    "\n",
    "// above operation is called chaining\n",
    "\n",
    "console.log({ namesMoreThanSixty });\n",
    "\n",
    "// Q. Return total marks for students with marks greater than 60 after 20 marks have been added to those who scored less than 60\n",
    "\n",
    "const totalMarks = students.reduce((acc, student)=> {\n",
    "  if (student.marks < 60 && student.marks + 20 > 60) {\n",
    "    return acc + student.marks + 20;\n",
    "  } else if (student.marks > 60) {\n",
    "    return acc + student.marks;\n",
    "  }\n",
    "  return acc;\n",
    "}, 0);\n",
    "\n",
    "console.log({ totalMarks });\n"
   ]
  }
 ],
 "metadata": {
  "kernelspec": {
   "display_name": "Python 3",
   "language": "python",
   "name": "python3"
  },
  "language_info": {
   "codemirror_mode": {
    "name": "ipython",
    "version": 3
   },
   "file_extension": ".py",
   "mimetype": "text/x-python",
   "name": "python",
   "nbconvert_exporter": "python",
   "pygments_lexer": "ipython3",
   "version": "3.12.1"
  }
 },
 "nbformat": 4,
 "nbformat_minor": 2
}
