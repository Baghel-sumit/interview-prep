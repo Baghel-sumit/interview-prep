{
 "cells": [
  {
   "cell_type": "markdown",
   "metadata": {},
   "source": [
    "Functions in javascript\n",
    "\n",
    "Q. What is function expression ?\n",
    "\n",
    "Ans: function expression is assigned to a variable."
   ]
  },
  {
   "cell_type": "code",
   "execution_count": 2,
   "metadata": {
    "vscode": {
     "languageId": "javascript"
    }
   },
   "outputs": [
    {
     "name": "stdout",
     "output_type": "stream",
     "text": [
      "\u001b[33m4\u001b[39m\n",
      "Square is \u001b[33m25\u001b[39m\n"
     ]
    }
   ],
   "source": [
    "%%script node\n",
    "\n",
    "const square = function (num) {\n",
    "  return num * num;\n",
    "};\n",
    "\n",
    "console.log(square(2));\n",
    "\n",
    "function displaySquare(fn) {\n",
    "  console.log(\"Square is\", + fn(5));\n",
    "}\n",
    "\n",
    "displaySquare(square)"
   ]
  },
  {
   "cell_type": "markdown",
   "metadata": {},
   "source": [
    "Q. What is IIFE ?\n",
    "\n",
    "IIFE -> Immediately invoked function expression\n",
    "\n",
    "Ans: the function is called immediately after initialization."
   ]
  },
  {
   "cell_type": "code",
   "execution_count": 6,
   "metadata": {
    "vscode": {
     "languageId": "javascript"
    }
   },
   "outputs": [
    {
     "name": "stdout",
     "output_type": "stream",
     "text": [
      "\u001b[33m1\u001b[39m\n"
     ]
    }
   ],
   "source": [
    "%%script Node\n",
    "\n",
    "(function (x){\n",
    "  return (function (y) {\n",
    "    console.log(x);\n",
    "  })(x);\n",
    "})(1);"
   ]
  },
  {
   "cell_type": "markdown",
   "metadata": {},
   "source": [
    "Function Scope - O/P based question"
   ]
  },
  {
   "cell_type": "code",
   "execution_count": 10,
   "metadata": {
    "vscode": {
     "languageId": "javascript"
    }
   },
   "outputs": [
    {
     "name": "stdout",
     "output_type": "stream",
     "text": [
      "outside \u001b[33m5\u001b[39m\n",
      "\u001b[33m5\u001b[39m\n",
      "\u001b[33m5\u001b[39m\n",
      "\u001b[33m5\u001b[39m\n",
      "\u001b[33m5\u001b[39m\n",
      "\u001b[33m5\u001b[39m\n"
     ]
    }
   ],
   "source": [
    "%%script Node\n",
    "\n",
    "for (var i = 0; i < 5; i++) {\n",
    "  setTimeout(() => {\n",
    "    console.log(i)\n",
    "  }, i * 1000);\n",
    "}\n",
    "\n",
    "console.log('outside', i);"
   ]
  },
  {
   "cell_type": "markdown",
   "metadata": {},
   "source": [
    "Function Hoisting"
   ]
  },
  {
   "cell_type": "code",
   "execution_count": 13,
   "metadata": {
    "vscode": {
     "languageId": "javascript"
    }
   },
   "outputs": [
    {
     "name": "stdout",
     "output_type": "stream",
     "text": [
      "roadside romeo\n",
      "\u001b[90mundefined\u001b[39m\n",
      "\u001b[90mundefined\u001b[39m\n"
     ]
    }
   ],
   "source": [
    "%%script Node\n",
    "\n",
    "// function hoisting starts\n",
    "\n",
    "execute();\n",
    "\n",
    "function execute() {\n",
    "  console.log('roadside romeo');\n",
    "}\n",
    "\n",
    "// function hoisting ends\n",
    "\n",
    "// variable hoisting starts\n",
    "\n",
    "console.log(a);\n",
    "\n",
    "var a = 10;\n",
    "\n",
    "// function hoisting ends\n",
    "\n",
    "var x = 21;\n",
    "\n",
    "var fun = function ()  {\n",
    "  console.log(x);\n",
    "  var x = 20;\n",
    "}\n",
    "\n",
    "fun();"
   ]
  },
  {
   "cell_type": "markdown",
   "metadata": {},
   "source": [
    "Params vs Arguments"
   ]
  },
  {
   "cell_type": "code",
   "execution_count": 14,
   "metadata": {
    "vscode": {
     "languageId": "javascript"
    }
   },
   "outputs": [
    {
     "name": "stdout",
     "output_type": "stream",
     "text": [
      "\u001b[33m25\u001b[39m\n",
      "\u001b[33m30\u001b[39m\n"
     ]
    }
   ],
   "source": [
    "%%script Node\n",
    "\n",
    "function square(number) { // -> params\n",
    "  console.log(number * number);\n",
    "}\n",
    "\n",
    "square(5); // -> Arguments\n",
    "\n",
    "\n",
    "function multiply(...nums) { // > rest operators\n",
    "  console.log(nums.reduce((acc, ele)=> acc * ele, 1));\n",
    "}\n",
    "\n",
    "var arr = [5, 6];\n",
    "\n",
    "multiply(...arr); // > spread operators\n"
   ]
  },
  {
   "cell_type": "markdown",
   "metadata": {},
   "source": [
    "What is callback function ?"
   ]
  },
  {
   "cell_type": "markdown",
   "metadata": {},
   "source": [
    "Ans: when we calling a function inside a function as an argument of that function."
   ]
  },
  {
   "cell_type": "markdown",
   "metadata": {},
   "source": [
    "Arrow Functions"
   ]
  },
  {
   "cell_type": "code",
   "execution_count": 18,
   "metadata": {
    "vscode": {
     "languageId": "javascript"
    }
   },
   "outputs": [
    {
     "name": "stdout",
     "output_type": "stream",
     "text": [
      "firstNamesecondName\n",
      "[Arguments] { \u001b[32m'0'\u001b[39m: \u001b[33m1\u001b[39m, \u001b[32m'1'\u001b[39m: \u001b[33m2\u001b[39m, \u001b[32m'2'\u001b[39m: \u001b[33m4\u001b[39m, \u001b[32m'3'\u001b[39m: \u001b[33m5\u001b[39m, \u001b[32m'4'\u001b[39m: \u001b[33m5\u001b[39m }\n",
      "[ \u001b[33m1\u001b[39m, \u001b[33m2\u001b[39m, \u001b[33m3\u001b[39m, \u001b[33m4\u001b[39m, \u001b[33m5\u001b[39m ]\n"
     ]
    }
   ],
   "source": [
    "%%script Node\n",
    "\n",
    "const add = (firstName, secondName) => {\n",
    "  console.log(firstName + secondName);\n",
    "}\n",
    "\n",
    "add('firstName', 'secondName');\n",
    "\n",
    "function execute() {\n",
    "  console.log(arguments);\n",
    "}\n",
    "\n",
    "execute(1,2,4,5,5);\n",
    "\n",
    "const execute2 = (...arguments) => {\n",
    "  console.log(arguments);\n",
    "}\n",
    "\n",
    "execute2(1,2,3,4,5);"
   ]
  },
  {
   "cell_type": "markdown",
   "metadata": {},
   "source": [
    "The 'this' Keyword"
   ]
  },
  {
   "cell_type": "code",
   "execution_count": 19,
   "metadata": {
    "vscode": {
     "languageId": "javascript"
    }
   },
   "outputs": [
    {
     "name": "stdout",
     "output_type": "stream",
     "text": [
      "Subscribe to undefined\n",
      "Subscribe to  Roadside Coder\n"
     ]
    }
   ],
   "source": [
    "%%script Node\n",
    "\n",
    "let user = {\n",
    "  username: \"Roadside Coder\",\n",
    "  rc1: () => {\n",
    "    console.log(\"Subscribe to \" + this.username);\n",
    "  },\n",
    "  rc2() {\n",
    "    console.log(\"Subscribe to \", this.username);\n",
    "  }\n",
    "}\n",
    "\n",
    "user.rc1();\n",
    "user.rc2();"
   ]
  }
 ],
 "metadata": {
  "kernelspec": {
   "display_name": "Python 3",
   "language": "python",
   "name": "python3"
  },
  "language_info": {
   "codemirror_mode": {
    "name": "ipython",
    "version": 3
   },
   "file_extension": ".py",
   "mimetype": "text/x-python",
   "name": "python",
   "nbconvert_exporter": "python",
   "pygments_lexer": "ipython3",
   "version": "3.12.1"
  }
 },
 "nbformat": 4,
 "nbformat_minor": 2
}
