{
 "cells": [
  {
   "cell_type": "markdown",
   "metadata": {},
   "source": [
    "Dictionary and sets\n",
    "\n",
    "Dictionaries are used to store data values in key:value pairs. They are unordered, mutable(changeable) & don't allow duplicate keys.\n",
    "\n",
    "> they are unordered, mutable(changeable) & don't allow duplicate keys\n",
    "\n",
    "```\n",
    "dict = {\n",
    "  \"name\": \"shradha\",\n",
    "  \"cgpa\": 9.6,\n",
    "  \"marks\": [ 98, 45, 34 ]\n",
    "}\n",
    "```\n",
    "\n",
    "dict[\"name\"], dict[\"cgpa\"], dict[\"marks\"]\n",
    "\n",
    "dict[\"key\"] = \"value\" # to assign or add new value"
   ]
  },
  {
   "cell_type": "code",
   "execution_count": null,
   "metadata": {},
   "outputs": [],
   "source": [
    "info = {\n",
    "  \"key\": \"value\",\n",
    "  \"name\": \"sumit baghel\",\n",
    "  \"list\": [3948,3498,3498]\n",
    "}\n",
    "\n",
    "info[\"values\"] = list(info.values())\n",
    "\n",
    "print(type(info))\n",
    "print((info))\n",
    "\n",
    "# nested dictionaries\n",
    "\n",
    "student = {\n",
    "  \"name\": \"rahul kumar\",\n",
    "  \"subjects\": {\n",
    "    \"phy\": 98,\n",
    "    \"chem\": 97\n",
    "  }\n",
    "}\n",
    "\n",
    "student.update({\n",
    "  \"hey\": \"bro\"\n",
    "})\n",
    "\n",
    "print(student)\n",
    "print(student.get(\"name\"))\n",
    "print(student[\"subjects\"][\"phy\"])\n",
    "\n",
    "print(list(student.keys())[0])\n",
    "print(student.values())\n",
    "print(list(info.items()))"
   ]
  },
  {
   "cell_type": "markdown",
   "metadata": {},
   "source": [
    "Set in python\n",
    "\n",
    "Set is the collection of the unordered items. Each element in the set must be unique & immutable.\n",
    "\n",
    "```\n",
    "nums = { 1,2,3,4,5 }\n",
    "set2 = { 1,2,2,4 }\n",
    "```\n",
    "\n",
    "repeated elements stored only once, so it resolved to { 1,2,4 }"
   ]
  },
  {
   "cell_type": "code",
   "execution_count": null,
   "metadata": {},
   "outputs": [],
   "source": [
    "collection = { 1,2,2,3,4, \"world\", \"hello\", \"world\" }\n",
    "emptySet = set()\n",
    "\n",
    "print(collection)\n",
    "print(emptySet)\n",
    "print(len(collection))\n",
    "collection.add((1,2,3,4,4))\n",
    "print(collection)\n",
    "collection.remove(1)\n",
    "print(collection)\n",
    "print(collection.pop()) # gives the random value\n",
    "collection.clear()\n",
    "print(collection)"
   ]
  },
  {
   "cell_type": "code",
   "execution_count": null,
   "metadata": {},
   "outputs": [],
   "source": [
    "# union and intersection\n",
    "\n",
    "set1 = { 1,2,3,4,5 }\n",
    "set2 = { 1,2,3,4,6 }\n",
    "\n",
    "print(set1.union(set2))\n",
    "print(set1.intersection(set2))"
   ]
  },
  {
   "cell_type": "markdown",
   "metadata": {},
   "source": [
    "> Practice Questions"
   ]
  },
  {
   "cell_type": "code",
   "execution_count": null,
   "metadata": {},
   "outputs": [],
   "source": [
    "# Store word meanings in a python dictionary\n",
    "\n",
    "wordMeanings = {}\n",
    "\n",
    "wordMeanings[\"table\"] = (\"a piece of furniture\", \"list of facts & figures\")\n",
    "wordMeanings[\"cat\"] = (\"a small animal\")\n",
    "\n",
    "print(wordMeanings)"
   ]
  },
  {
   "cell_type": "markdown",
   "metadata": {},
   "source": [
    "Question: You are given a list of subjects for students. Assume one classroom is required for 1 subject. How many classrooms are needed by all students.\n",
    "\n",
    "\"python\", \"java\", \"c++\", \"python\" , \"javascript\", \"java\", \"python\", \"java\", \"c++\", \"c\""
   ]
  },
  {
   "cell_type": "code",
   "execution_count": null,
   "metadata": {},
   "outputs": [],
   "source": [
    "subjects = { \"python\", \"java\", \"c++\", \"python\" , \"javascript\", \"java\", \"python\", \"java\", \"c++\", \"c\" }\n",
    "\n",
    "print(\"number of classrooms: \", len(subjects))"
   ]
  },
  {
   "cell_type": "markdown",
   "metadata": {},
   "source": [
    "Question: enter marks of 3 subjects from the user and store them in a dictionary. Start with an empty dictionary & add one by one. Use Subject name as key & marks as value."
   ]
  },
  {
   "cell_type": "code",
   "execution_count": null,
   "metadata": {},
   "outputs": [],
   "source": [
    "scoreBoard = {\n",
    "  \"chemistry\": 0,\n",
    "  \"physics\": 0,\n",
    "  \"mathematics\": 0\n",
    "}\n",
    "\n",
    "scoreBoard[\"chemistry\"] = float(input(\"Enter marks of chemistry: \"))\n",
    "scoreBoard[\"physics\"] = float(input(\"Enter marks of physics: \"))\n",
    "scoreBoard[\"mathematics\"] = float(input(\"Enter marks of mathematics: \"))\n",
    "\n",
    "print(\"scoreboard\", scoreBoard)"
   ]
  }
 ],
 "metadata": {
  "kernelspec": {
   "display_name": "Python 3",
   "language": "python",
   "name": "python3"
  },
  "language_info": {
   "codemirror_mode": {
    "name": "ipython",
    "version": 3
   },
   "file_extension": ".py",
   "mimetype": "text/x-python",
   "name": "python",
   "nbconvert_exporter": "python",
   "pygments_lexer": "ipython3",
   "version": "3.12.0"
  }
 },
 "nbformat": 4,
 "nbformat_minor": 2
}
