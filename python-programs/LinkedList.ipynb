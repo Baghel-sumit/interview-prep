{
 "cells": [
  {
   "cell_type": "code",
   "execution_count": 12,
   "metadata": {},
   "outputs": [
    {
     "name": "stdout",
     "output_type": "stream",
     "text": [
      "30->40->50->60->\n",
      "30->50->60->"
     ]
    }
   ],
   "source": [
    "# Node class\n",
    "\n",
    "class Node:\n",
    "\n",
    "  def __init__(self, data) -> None:\n",
    "    self.data = data\n",
    "    self.next = None\n",
    "\n",
    "\n",
    "class LinkedList:\n",
    "\n",
    "  def __init__(self):\n",
    "    self.head = None\n",
    "  \n",
    "  def append(self, data):\n",
    "    new_node = Node(data)\n",
    "    if self.head is None:\n",
    "      self.head = new_node\n",
    "      return\n",
    "    temp_node = self.head\n",
    "    while (temp_node.next):\n",
    "      temp_node = temp_node.next\n",
    "    \n",
    "    temp_node.next = new_node\n",
    "\n",
    "  def preAppend(self, data):\n",
    "    new_node = Node(data)\n",
    "    new_node.next = self.head\n",
    "    self.head = new_node\n",
    "\n",
    "  def delete(self, data):\n",
    "    if (self.head is None):\n",
    "      return\n",
    "    \n",
    "    if (self.head.data == data):\n",
    "      self.head = self.head.next\n",
    "      return\n",
    "    \n",
    "    temp_node = self.head\n",
    "    while(temp_node.next):\n",
    "      if (temp_node.next.data == data):\n",
    "        temp_node.next = temp_node.next.next\n",
    "        return\n",
    "      temp_node = temp_node.next\n",
    "\n",
    "  def printLinkedList(self):\n",
    "    temp_node = self.head\n",
    "\n",
    "    while(temp_node):\n",
    "      print(temp_node.data, end=\"->\")\n",
    "      temp_node = temp_node.next\n",
    "    \n",
    "\n",
    "ll = LinkedList()\n",
    "\n",
    "ll.append(30)\n",
    "ll.append(40)\n",
    "ll.append(50)\n",
    "ll.append(60)\n",
    "\n",
    "ll.printLinkedList()\n",
    "print()\n",
    "\n",
    "ll.delete(40)\n",
    "\n",
    "ll.printLinkedList()\n"
   ]
  }
 ],
 "metadata": {
  "kernelspec": {
   "display_name": "Python 3",
   "language": "python",
   "name": "python3"
  },
  "language_info": {
   "codemirror_mode": {
    "name": "ipython",
    "version": 3
   },
   "file_extension": ".py",
   "mimetype": "text/x-python",
   "name": "python",
   "nbconvert_exporter": "python",
   "pygments_lexer": "ipython3",
   "version": "3.12.0"
  }
 },
 "nbformat": 4,
 "nbformat_minor": 2
}
