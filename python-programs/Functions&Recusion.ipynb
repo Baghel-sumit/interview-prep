{
 "cells": [
  {
   "cell_type": "markdown",
   "metadata": {},
   "source": [
    "Functions in python\n",
    "\n",
    "```\n",
    "def func_name(param1, param2..):\n",
    "  # some work\n",
    "  return val\n",
    "```"
   ]
  },
  {
   "cell_type": "code",
   "execution_count": null,
   "metadata": {},
   "outputs": [],
   "source": [
    "def getSum(number1, number2): # -> params\n",
    "  return number1 + number2\n",
    "\n",
    "def getDivision(number1 = 1, number2 = 1): # -> default params\n",
    "  return number1 / number2\n",
    "\n",
    "def getMultiplication(number1, number2):\n",
    "  return number1 * number2\n",
    "\n",
    "def getModulus(number1, number2):\n",
    "  return number1 % number2\n",
    "\n",
    "def printHello():\n",
    "  print(\"hello world\")\n",
    "  return\n",
    "\n",
    "print(getSum(3, 4)) # -> arguments\n",
    "print(getDivision())\n",
    "print(getMultiplication(3, 4))\n",
    "print(getModulus(3, 4))\n",
    "\n",
    "printHello()"
   ]
  },
  {
   "cell_type": "code",
   "execution_count": null,
   "metadata": {},
   "outputs": [],
   "source": [
    "# print fibonacci series using recursion\n",
    "\n",
    "def fibonacci(number):\n",
    "  if (number == 0 or number == 1):\n",
    "    return 1\n",
    "  return fibonacci(number-1) + fibonacci(number-2)\n",
    "\n",
    "\n",
    "print(fibonacci(5))"
   ]
  },
  {
   "cell_type": "code",
   "execution_count": null,
   "metadata": {},
   "outputs": [],
   "source": [
    "# print the length of the list\n",
    "\n",
    "def printListLen(list = []):\n",
    "  print(len(list))\n",
    "  return\n",
    "\n",
    "printListLen([1,2,3,4,5,6])"
   ]
  },
  {
   "cell_type": "code",
   "execution_count": null,
   "metadata": {},
   "outputs": [],
   "source": [
    "# print the elements of a list in a single line\n",
    "\n",
    "def printList(list = []):\n",
    "  for el in list:\n",
    "    print(el)\n",
    "  return\n",
    "\n",
    "printList([1,2,3,4,5,6,7])"
   ]
  },
  {
   "cell_type": "code",
   "execution_count": null,
   "metadata": {},
   "outputs": [],
   "source": [
    "# find the factorial of n\n",
    "\n",
    "def findFactorial(n = 1):\n",
    "  if (n == 1):\n",
    "    return 1\n",
    "  \n",
    "  return n * findFactorial(n -1)\n",
    "\n",
    "print(findFactorial(4))"
   ]
  },
  {
   "cell_type": "code",
   "execution_count": null,
   "metadata": {},
   "outputs": [],
   "source": []
  }
 ],
 "metadata": {
  "kernelspec": {
   "display_name": "Python 3",
   "language": "python",
   "name": "python3"
  },
  "language_info": {
   "codemirror_mode": {
    "name": "ipython",
    "version": 3
   },
   "file_extension": ".py",
   "mimetype": "text/x-python",
   "name": "python",
   "nbconvert_exporter": "python",
   "pygments_lexer": "ipython3",
   "version": "3.12.0"
  }
 },
 "nbformat": 4,
 "nbformat_minor": 2
}
