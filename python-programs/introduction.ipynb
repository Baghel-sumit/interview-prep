{
 "cells": [
  {
   "cell_type": "markdown",
   "metadata": {},
   "source": [
    "Variables and Data Types\n",
    "\n",
    "A variable is a name given to a memory location in a program.\n",
    "\n",
    "name = \"sumit\"\n",
    "age = \"23\"\n",
    "price = 25.99\n",
    "\n",
    "\n",
    "Identifiers\n",
    "\n",
    "1. combination of uppercase and lowercase letters, digits or an underscore (_)\n",
    "2. can not start with digit\n",
    "3. we can't use special symbols like !#^&%&^(*)\n",
    "4. can be of any length\n",
    "\n",
    "Data Types\n",
    "\n",
    "1. Integers\n",
    "2. String\n",
    "3. Float\n",
    "4. Boolean\n",
    "5. None\n",
    "\n",
    "> Keywords are reserved words in python.\n",
    "\n",
    "> Python is a case sensitive language and implicit type language means we don't define before variable assignment.\n",
    "\n",
    "Types of Tokens\n",
    "\n",
    "Punctuators: are symbols to organize sentence structure in programming.\n",
    "\n",
    "Expression execution\n",
    "\n",
    "> String & Numeric values can operate together with +\n",
    "```\n",
    "a, b = 2,3\n",
    "txt = \"@\"\n",
    "print(2*txt*3)\n",
    "```\n",
    "output: @@@@@@\n",
    "\n",
    "> String & String can operate with +\n",
    "```\n",
    "a, b = \"2\", 3\n",
    "txt = \"@\"\n",
    "print((a + txt)*3)\n",
    "```\n",
    "output: 2@2@2@\n",
    "\n",
    "> Numeric values can operate with all arithmetic operators\n",
    "```\n",
    "a, b = 2, 3\n",
    "c = 4\n",
    "print(a+b*c)\n",
    "```\n",
    "output: 14\n",
    "\n",
    "> Arithmetic expression with integer and float will result in float\n",
    "\n",
    "```\n",
    "a, b = 10, 5.0\n",
    "c = a * b\n",
    "print(c)\n",
    "```\n",
    "\n",
    "output: 50.0\n",
    "\n",
    "> Result of division operator with two integers will be float\n",
    "\n",
    "```\n",
    "a, b = 1, 2\n",
    "c = a/b\n",
    "\n",
    "print(c)\n",
    "```\n",
    "output: 0.5\n",
    "\n",
    "> integer division with float and int will give int displayed as float\n",
    "\n",
    "```\n",
    "a, b = 1.5, 3\n",
    "c = a//b\n",
    "print(c, a/b)\n",
    "```\n",
    "\n",
    "output: 0.0 0.5\n",
    "\n",
    "> Floor gives closest integer, which is lesser than or equal to the float value\n",
    "\n",
    "Result of (A//B) is same as floor(A/B)\n",
    "\n",
    "> Remainder is negative when denominator is negative.\n",
    "\n",
    "n / d => ( +, - ) , ( -, - ), ( - , + )\n",
    "\n",
    "\n",
    "            +           -         +\n",
    "\n",
    "\n",
    "Conditional Statements \n",
    "\n",
    "Syntax\n",
    "\n",
    "```\n",
    "if (condition): \n",
    "  statement1\n",
    "elif (condition):\n",
    "  statement2\n",
    "else :\n",
    "  statement3\n",
    "```\n",
    "\n",
    "> Single line if/Ternary operator\n",
    "\n",
    "```\n",
    "<str1> if <condition> else <str2>\n",
    "```\n",
    "\n",
    "> Clever if / Ternary operator\n",
    "\n",
    "```\n",
    "<var> = (false_val, true_val) [<condition>]\n",
    "```\n",
    "\n",
    "Operators\n",
    "\n",
    "An operator is a symbol that performs a certain operation between operands.\n",
    "\n",
    "> Arithmetic operators : ( +, -, /, *, **, %, // )\n",
    "\n",
    "> Relational / Comparison operators : ( ==, !=, > , <, >=, <= )\n",
    "\n",
    "> Assignment operators : ( =, +=, -=, *=, /=, %=, **= )\n",
    "\n",
    "> Logical Operators : ( not, or, and )"
   ]
  },
  {
   "cell_type": "code",
   "execution_count": 23,
   "metadata": {},
   "outputs": [
    {
     "name": "stdout",
     "output_type": "stream",
     "text": [
      "hello world whats happing\n",
      "hi world\n",
      "sumit\n",
      "23\n",
      "245.5\n",
      "<class 'str'>\n",
      "<class 'int'>\n",
      "<class 'float'>\n",
      "<class 'bool'>\n",
      "<class 'NoneType'>\n"
     ]
    },
    {
     "data": {
      "text/plain": [
       "'\\n  print(\"multiline comments)\\n'"
      ]
     },
     "execution_count": 23,
     "metadata": {},
     "output_type": "execute_result"
    }
   ],
   "source": [
    "# printing with separator\n",
    "\n",
    "print(\"hello world\", \" whats happing\\n\", \"hi world\", sep='')\n",
    "\n",
    "name = \"sumit\"\n",
    "print(name)\n",
    "\n",
    "age = 23\n",
    "print(age)\n",
    "\n",
    "price = 245.5\n",
    "print(price)\n",
    "\n",
    "isAboveTwenty = age > 20 # False | True\n",
    "\n",
    "noneData = None\n",
    "\n",
    "print(2**3) # 2 ^ 3 = 8\n",
    "\n",
    "not True and False or True # not > and > or\n",
    "\n",
    "# printing types\n",
    "\n",
    "print(type(name))\n",
    "print(type(age))\n",
    "print(type(price))\n",
    "print(type(isAboveTwenty))\n",
    "print(type(noneData))\n",
    "\n",
    "# single line comment\n",
    "\n",
    "\"\"\"\n",
    "  print(\"multiline comments)\n",
    "\"\"\""
   ]
  },
  {
   "cell_type": "code",
   "execution_count": 19,
   "metadata": {},
   "outputs": [
    {
     "name": "stdout",
     "output_type": "stream",
     "text": [
      "sum of variables:  47\n",
      "Difference:  1\n"
     ]
    }
   ],
   "source": [
    "# Printing the sum of two numbers\n",
    "\n",
    "number1 = 23\n",
    "number2 = 24\n",
    "\n",
    "sum = number1 + number2\n",
    "\n",
    "print(\"sum of variables: \", sum)\n",
    "\n",
    "# Difference of two numbers\n",
    "\n",
    "diff = number2 - number1\n",
    "\n",
    "print(\"Difference: \", diff)"
   ]
  },
  {
   "cell_type": "markdown",
   "metadata": {},
   "source": [
    "Input in Python"
   ]
  },
  {
   "cell_type": "code",
   "execution_count": 27,
   "metadata": {},
   "outputs": [
    {
     "name": "stdout",
     "output_type": "stream",
     "text": [
      "sumit\n",
      "34\n",
      "Greater than 20\n",
      "Sum: 35.0\n"
     ]
    }
   ],
   "source": [
    "name = input(\"enter your name: \")\n",
    "print(name)\n",
    "\n",
    "age = int(input(\"Enter your age: \"))\n",
    "print(age)\n",
    "\n",
    "if (age > 20) :\n",
    "  print(\"Greater than 20\")\n",
    "elif (age == 20) :\n",
    "  print(\"equal to 20\")\n",
    "else :\n",
    "  print(\"Lesser than 20\")\n",
    "\n",
    "number1 = float(input(\"Enter number1: \"))\n",
    "number2 = float(input(\"Enter number2: \"))\n",
    "\n",
    "sum = number1 + number2\n",
    "\n",
    "print(\"Sum:\", sum)"
   ]
  },
  {
   "cell_type": "code",
   "execution_count": 36,
   "metadata": {},
   "outputs": [
    {
     "name": "stdout",
     "output_type": "stream",
     "text": [
      "Light is broken\n"
     ]
    }
   ],
   "source": [
    "light = input(\"Enter the color of light: \")\n",
    "if (light == \"red\") :\n",
    "  print(\"Stop\")\n",
    "elif (light == \"green\"):\n",
    "  print(\"go\")\n",
    "elif (light == \"yellow\"):\n",
    "  print(\"Look\")\n",
    "else:\n",
    "  print(\"Light is broken\")"
   ]
  },
  {
   "cell_type": "code",
   "execution_count": 38,
   "metadata": {},
   "outputs": [
    {
     "name": "stdout",
     "output_type": "stream",
     "text": [
      "A\n"
     ]
    }
   ],
   "source": [
    "# Conditional statements\n",
    "\n",
    "marks = int(input(\"Enter your marks:\"))\n",
    "\n",
    "if (marks >= 90):\n",
    "  print(\"A\")\n",
    "elif (marks >= 80 and marks < 90):\n",
    "  print(\"B\")\n",
    "elif (marks >= 70 and marks < 80):\n",
    "  print(\"C\")\n",
    "else:\n",
    "  print(\"D\")"
   ]
  },
  {
   "cell_type": "code",
   "execution_count": 43,
   "metadata": {},
   "outputs": [
    {
     "name": "stdout",
     "output_type": "stream",
     "text": [
      "Your are below 20\n",
      "no\n"
     ]
    }
   ],
   "source": [
    "# Ternary operator\n",
    "\n",
    "name = input(\"Enter your name\")\n",
    "print(\"Your are below 20\") if name == \"sumit\" else print(\"you are above 20\")\n",
    "\n",
    "# Clever ternary operator\n",
    "\n",
    "age = int(input(\"Age \"))\n",
    "\n",
    "vote = (\"yes\", \"no\") [ age >= 18 ]\n",
    "\n",
    "print(vote)"
   ]
  },
  {
   "cell_type": "code",
   "execution_count": 46,
   "metadata": {},
   "outputs": [
    {
     "name": "stdout",
     "output_type": "stream",
     "text": [
      "7\n",
      "10\n",
      "3\n",
      "2.5\n",
      "25\n",
      "1\n"
     ]
    }
   ],
   "source": [
    "# Arithmetic Operators\n",
    "\n",
    "a = 5\n",
    "b = 2\n",
    "\n",
    "sum = a + b\n",
    "mul = a * b\n",
    "diff = a- b\n",
    "div = a / b\n",
    "exp = a ** b\n",
    "mod = a % b\n",
    "\n",
    "print(sum)\n",
    "print(mul)\n",
    "print(diff)\n",
    "print(div)\n",
    "print(exp)\n",
    "print(mod)"
   ]
  },
  {
   "cell_type": "code",
   "execution_count": 50,
   "metadata": {},
   "outputs": [
    {
     "name": "stdout",
     "output_type": "stream",
     "text": [
      "False\n",
      "True\n",
      "True\n",
      "False\n",
      "True\n",
      "False\n"
     ]
    }
   ],
   "source": [
    "# Relational / conditional operators\n",
    "\n",
    "a = 50\n",
    "b = 20\n",
    "\n",
    "print(a == b)\n",
    "print(a != b)\n",
    "print(a > b)\n",
    "print(a < b)\n",
    "print(a >= b)\n",
    "print(a <= b)"
   ]
  },
  {
   "cell_type": "code",
   "execution_count": 54,
   "metadata": {},
   "outputs": [
    {
     "name": "stdout",
     "output_type": "stream",
     "text": [
      "20\n",
      "10\n",
      "100\n",
      "10.0\n"
     ]
    }
   ],
   "source": [
    "# Assignment operators\n",
    "\n",
    "num = 10\n",
    "num += 10\n",
    "print(num)\n",
    "num -= 10\n",
    "print(num)\n",
    "num *= 10\n",
    "print(num)\n",
    "num /= 10\n",
    "print(num)"
   ]
  },
  {
   "cell_type": "code",
   "execution_count": 59,
   "metadata": {},
   "outputs": [
    {
     "name": "stdout",
     "output_type": "stream",
     "text": [
      "False\n",
      "False\n",
      "True\n",
      "True\n"
     ]
    }
   ],
   "source": [
    "# Logical Operators\n",
    "\n",
    "a = 20\n",
    "b = 30\n",
    "\n",
    "print( (a > 20) and (a > b) )\n",
    "print( (a > 20) or (a > b) )\n",
    "\n",
    "print(not (a > b))\n",
    "print(not False)"
   ]
  },
  {
   "cell_type": "code",
   "execution_count": 66,
   "metadata": {},
   "outputs": [
    {
     "name": "stdout",
     "output_type": "stream",
     "text": [
      "not convertable\n"
     ]
    }
   ],
   "source": [
    "# Type casting\n",
    "\n",
    "if (int(\"0\")):\n",
    "  print(\"convertable\")\n",
    "else:\n",
    "  print(\"not convertable\")"
   ]
  },
  {
   "cell_type": "markdown",
   "metadata": {},
   "source": [
    "Practice Questions"
   ]
  },
  {
   "cell_type": "code",
   "execution_count": 67,
   "metadata": {},
   "outputs": [
    {
     "name": "stdout",
     "output_type": "stream",
     "text": [
      "43\n"
     ]
    }
   ],
   "source": [
    "# input 2 numbers and print their sum\n",
    "\n",
    "number1 = int(input(\"Enter number 1\"))\n",
    "number2 = int(input(\"Enter number 2\"))\n",
    "\n",
    "sum = number1 + number2\n",
    "print(sum)"
   ]
  },
  {
   "cell_type": "code",
   "execution_count": 68,
   "metadata": {},
   "outputs": [
    {
     "name": "stdout",
     "output_type": "stream",
     "text": [
      "400.0\n"
     ]
    }
   ],
   "source": [
    "# input side of square & print its area\n",
    "\n",
    "side = float(input(\"Enter side\"))\n",
    "print(side * side)"
   ]
  },
  {
   "cell_type": "code",
   "execution_count": 70,
   "metadata": {},
   "outputs": [
    {
     "name": "stdout",
     "output_type": "stream",
     "text": [
      "20.0\n"
     ]
    }
   ],
   "source": [
    "# input 2 floating number and find average\n",
    "\n",
    "number1 = float(input(\"Enter first\"))\n",
    "number2 = float(input(\"Enter second\"))\n",
    "\n",
    "print((number1 + number2)/2)"
   ]
  },
  {
   "cell_type": "code",
   "execution_count": 71,
   "metadata": {},
   "outputs": [
    {
     "name": "stdout",
     "output_type": "stream",
     "text": [
      "False\n"
     ]
    }
   ],
   "source": [
    "# which is greater\n",
    "\n",
    "number1 = float(input(\"Enter first\"))\n",
    "number2 = float(input(\"Enter second\"))\n",
    "\n",
    "print(number1 >= number2)"
   ]
  }
 ],
 "metadata": {
  "kernelspec": {
   "display_name": "Python 3",
   "language": "python",
   "name": "python3"
  },
  "language_info": {
   "codemirror_mode": {
    "name": "ipython",
    "version": 3
   },
   "file_extension": ".py",
   "mimetype": "text/x-python",
   "name": "python",
   "nbconvert_exporter": "python",
   "pygments_lexer": "ipython3",
   "version": "3.12.0"
  }
 },
 "nbformat": 4,
 "nbformat_minor": 2
}
