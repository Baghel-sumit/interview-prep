{
 "cells": [
  {
   "cell_type": "markdown",
   "metadata": {},
   "source": [
    "Lists in python\n",
    "\n",
    "A built-in data type that stores set of values. It can store elements of different types (integer, float, string ..etc)\n",
    "\n",
    "marks = [87, 64, 33, 95, 76] \n",
    "\n",
    "student = [\"karan\", 85, \"delhi\"]\n",
    "\n",
    "student[0] = \"arjun\" # allowed in python\n",
    "len(student) -> will provide the length of list"
   ]
  },
  {
   "cell_type": "code",
   "execution_count": 21,
   "metadata": {},
   "outputs": [
    {
     "name": "stdout",
     "output_type": "stream",
     "text": [
      "[84, 9238, 293, 2039]\n",
      "<class 'list'>\n",
      "84\n",
      "9238\n",
      "293\n",
      "2039\n",
      "4\n",
      "[84, 9238, 293, 2039]\n",
      "[9238, 293, 2039]\n",
      "[84, 9238]\n",
      "[{'hello': 'world'}, 293, 2039, 9238]\n",
      "[293, 2039, 9238]\n"
     ]
    }
   ],
   "source": [
    "marks = [84, 9238, 293, 2039]\n",
    "students = {\n",
    "  'hello': 'world'\n",
    "}\n",
    "\n",
    "# marks[0] = students\n",
    "\n",
    "print(marks)\n",
    "\n",
    "print(type(marks))\n",
    "print(marks[0])\n",
    "print(marks[1])\n",
    "print(marks[2])\n",
    "print(marks[3])\n",
    "print(len(marks))\n",
    "\n",
    "# sublist\n",
    "\n",
    "print(marks[0:])\n",
    "print(marks[1:])\n",
    "print(marks[:len(marks) - 2])\n",
    "\n",
    "# other methods\n",
    "\n",
    "# marks.append(students)\n",
    "\n",
    "marks.sort( reverse=True )\n",
    "marks.reverse()\n",
    "marks.insert(0, students)\n",
    "marks.remove(84)\n",
    "print(marks)\n",
    "marks.pop(0)\n",
    "print(marks)"
   ]
  },
  {
   "cell_type": "markdown",
   "metadata": {},
   "source": [
    "Tuples in python\n",
    "\n",
    "A built-in data type that lets us create immutable sequences \n",
    "\n",
    "tup = (84, 2938,2389,2038)"
   ]
  },
  {
   "cell_type": "code",
   "execution_count": 27,
   "metadata": {},
   "outputs": [
    {
     "name": "stdout",
     "output_type": "stream",
     "text": [
      "(2, 34, 5, 6, 7, 7)\n",
      "(1,)\n",
      "<class 'tuple'>\n",
      "6\n",
      "2\n",
      "(2, 34, 5, 6, 7, 7)\n",
      "(5, 6, 7, 7)\n",
      "other methods ---------\n",
      "1\n",
      "1\n"
     ]
    }
   ],
   "source": [
    "tup = (2, 34,5,6,7,7)\n",
    "tup2 = (1,)\n",
    "\n",
    "print(tup, tup2, sep=\"\\n\")\n",
    "print(type(tup))\n",
    "print(len(tup))\n",
    "print(tup[0])\n",
    "print(tup[0: len(tup)])\n",
    "print(tup[2: len(tup)])\n",
    "\n",
    "# other methods\n",
    "\n",
    "print(\"other methods ---------\")\n",
    "\n",
    "print(tup.index(34))\n",
    "print(tup.count(2))"
   ]
  },
  {
   "cell_type": "markdown",
   "metadata": {},
   "source": [
    "> Practice Questions"
   ]
  },
  {
   "cell_type": "code",
   "execution_count": 28,
   "metadata": {},
   "outputs": [
    {
     "name": "stdout",
     "output_type": "stream",
     "text": [
      "['salmaan', 'sainik', 'thor']\n"
     ]
    }
   ],
   "source": [
    "# ask the user to enter names of their 3 favorite movies & store them in a list\n",
    "\n",
    "list = []\n",
    "\n",
    "movie1 = input(\"Enter first\")\n",
    "movie2 = input(\"Enter second\")\n",
    "movie3 = input(\"Enter third\")\n",
    "\n",
    "list.append(movie1)\n",
    "list.append(movie2)\n",
    "list.append(movie3)\n",
    "\n",
    "print(list)"
   ]
  },
  {
   "cell_type": "code",
   "execution_count": 33,
   "metadata": {},
   "outputs": [
    {
     "name": "stdout",
     "output_type": "stream",
     "text": [
      "palindrome\n"
     ]
    }
   ],
   "source": [
    "# check if a list contains a palindrome of elements Hint( use Copy() method )\n",
    "\n",
    "list = [1,2,2,1]\n",
    "copiedList = list.copy()\n",
    "\n",
    "copiedList.reverse()\n",
    "\n",
    "if (list == copiedList):\n",
    "  print(\"palindrome\")"
   ]
  },
  {
   "cell_type": "code",
   "execution_count": 34,
   "metadata": {},
   "outputs": [
    {
     "name": "stdout",
     "output_type": "stream",
     "text": [
      "3\n",
      "['A', 'A', 'A', 'B', 'B', 'D', 'c']\n"
     ]
    }
   ],
   "source": [
    "# count the number of students with the 'A' grade in the following tuple.\n",
    "\n",
    "list = [\"c\", \"D\", \"A\", \"A\", \"B\", \"B\", \"A\"]\n",
    "\n",
    "print(list.count(\"A\"))\n",
    "list.sort()\n",
    "print(list);"
   ]
  }
 ],
 "metadata": {
  "kernelspec": {
   "display_name": "Python 3",
   "language": "python",
   "name": "python3"
  },
  "language_info": {
   "codemirror_mode": {
    "name": "ipython",
    "version": 3
   },
   "file_extension": ".py",
   "mimetype": "text/x-python",
   "name": "python",
   "nbconvert_exporter": "python",
   "pygments_lexer": "ipython3",
   "version": "3.12.0"
  }
 },
 "nbformat": 4,
 "nbformat_minor": 2
}
