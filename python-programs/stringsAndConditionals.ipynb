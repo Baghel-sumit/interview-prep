{
 "cells": [
  {
   "cell_type": "markdown",
   "metadata": {},
   "source": [
    "Strings and Conditionals\n",
    "\n",
    "String is a data type that stores a sequence of characters\n",
    "\n",
    "> Basic Operations\n",
    "\n",
    "1. Concatenation\n",
    "\n",
    "\"hello\" + \"world\" --------> \"helloworld\"\n",
    "\n",
    "2. length of str\n",
    "\n",
    "len(str)\n",
    "\n",
    "> Indexing\n",
    "\n",
    "A P n a _ c o l l e g e\n",
    "\n",
    "0 1 2 3 4 5 6 7 8 9 10 3\n",
    "\n",
    "> Strings are immutable"
   ]
  },
  {
   "cell_type": "code",
   "execution_count": 30,
   "metadata": {},
   "outputs": [
    {
     "name": "stdout",
     "output_type": "stream",
     "text": [
      "this is a string\n",
      "apnaCollege\n",
      "this is a string\n",
      "16\t11\t16\n",
      "t\n",
      "h\n",
      "i\n",
      "s\n",
      "this is temp strin\n",
      "this is temp string\n",
      "th\n",
      "Negative indexing\n",
      "this is temp stri\n",
      "g\n",
      "\n",
      "other functions ---------\n",
      "False\n",
      "this is temp strsum\n",
      "This is temp string\n",
      "THIS IS TEMP STRING\n",
      "this is temp string\n",
      "ing\n",
      "1\n"
     ]
    }
   ],
   "source": [
    "str1 = \"this is a string\"\n",
    "str2 = 'apnaCollege'\n",
    "str3 = \"\"\"this is a string\"\"\"\n",
    "\n",
    "print(str1, str2, str3, sep=\"\\n\")\n",
    "\n",
    "print(len(str1), len(str2), len(str3), sep=\"\\t\")\n",
    "\n",
    "# str1[1] = \"s\"\n",
    "\n",
    "print(str1[0])\n",
    "print(str1[1])\n",
    "print(str1[2])\n",
    "print(str1[3])\n",
    "\n",
    "# Slicing\n",
    "\n",
    "print(str[0 : len(str) - 1])\n",
    "print(str[0 : ])\n",
    "print(str[ : 2])\n",
    "\n",
    "# negative indexing\n",
    "\n",
    "print(\"Negative indexing\")\n",
    "\n",
    "print(str[ : -2])\n",
    "print(str[-1: ])\n",
    "print(str[-1: -5])\n",
    "\n",
    "# Other function\n",
    "\n",
    "print(\"other functions ---------\")\n",
    "\n",
    "print(str.endswith('gn'))\n",
    "print(str.replace('ing', 'sum'))\n",
    "print((str.upper()).capitalize())\n",
    "print(str.upper())\n",
    "print(str.lower())\n",
    "print(str[str.find('ing'): ])\n",
    "print(str.count(\"ing\"))"
   ]
  },
  {
   "cell_type": "markdown",
   "metadata": {},
   "source": [
    "> Practice Questions"
   ]
  },
  {
   "cell_type": "code",
   "execution_count": 33,
   "metadata": {},
   "outputs": [
    {
     "name": "stdout",
     "output_type": "stream",
     "text": [
      "12\n",
      "1\n"
     ]
    }
   ],
   "source": [
    "# input user's first name & print its length\n",
    "\n",
    "name = input(\"Enter your name\")\n",
    "\n",
    "print(len(name))\n",
    "\n",
    "# count $ in string\n",
    "\n",
    "dollarStr = 'i m a $ sign'\n",
    "\n",
    "print(dollarStr.count('$'))"
   ]
  }
 ],
 "metadata": {
  "kernelspec": {
   "display_name": "Python 3",
   "language": "python",
   "name": "python3"
  },
  "language_info": {
   "codemirror_mode": {
    "name": "ipython",
    "version": 3
   },
   "file_extension": ".py",
   "mimetype": "text/x-python",
   "name": "python",
   "nbconvert_exporter": "python",
   "pygments_lexer": "ipython3",
   "version": "3.12.0"
  }
 },
 "nbformat": 4,
 "nbformat_minor": 2
}
