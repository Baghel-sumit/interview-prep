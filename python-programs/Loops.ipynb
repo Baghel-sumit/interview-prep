{
 "cells": [
  {
   "cell_type": "markdown",
   "metadata": {},
   "source": [
    "Loops in python\n",
    "\n",
    "Loops are used to repeat instructions.\n",
    "\n",
    "```\n",
    "while condition :\n",
    "  # some work\n",
    "```"
   ]
  },
  {
   "cell_type": "code",
   "execution_count": null,
   "metadata": {},
   "outputs": [],
   "source": [
    "# while loop\n",
    "\n",
    "i = 0\n",
    "while (i < 5):\n",
    "  print(\"hello world\")\n",
    "  i += 1\n",
    "\n",
    "print(i)"
   ]
  },
  {
   "cell_type": "code",
   "execution_count": null,
   "metadata": {},
   "outputs": [],
   "source": [
    "# print from 1 to 100\n",
    "\n",
    "number = int(input(\"Enter a number \"))\n",
    "\n",
    "i = 1\n",
    "while( i <= 10):\n",
    "  print(number * i)\n",
    "  i += 1\n",
    "\n",
    "print(\"End\")"
   ]
  },
  {
   "cell_type": "code",
   "execution_count": null,
   "metadata": {},
   "outputs": [],
   "source": [
    "# print the elements of the list\n",
    "\n",
    "providedList = [1,4,9,4,45,6,7,8,3,32]\n",
    "\n",
    "i = 0\n",
    "while(i < len(providedList)):\n",
    "  print(\"element\", providedList[i])\n",
    "  i += 1\n",
    "\n",
    "print(\"end\")"
   ]
  },
  {
   "cell_type": "code",
   "execution_count": null,
   "metadata": {},
   "outputs": [],
   "source": [
    "# search for a number x in this tuple using loop\n",
    "\n",
    "tup = (1,2,4,5,6,7,8,34,4556,56)\n",
    "\n",
    "target = 4\n",
    "i = 0\n",
    "while(i < len(tup)):\n",
    "  if (target == tup[i]) :\n",
    "    print(\"element found at\", i)\n",
    "    break\n",
    "  i += 1\n"
   ]
  },
  {
   "cell_type": "markdown",
   "metadata": {},
   "source": [
    "For loops\n",
    "\n",
    "```\n",
    "for el in list:\n",
    "  # some work\n",
    "```\n",
    "\n",
    "for loop with else\n",
    "\n",
    "```\n",
    "for el in list:\n",
    "  # some work\n",
    "else:\n",
    "  # work when loop ends\n",
    "```"
   ]
  },
  {
   "cell_type": "code",
   "execution_count": null,
   "metadata": {},
   "outputs": [],
   "source": [
    "# printing a list using for loop\n",
    "\n",
    "list = [1,2,3,4,5,6]\n",
    "\n",
    "for el in list:\n",
    "  print(el)\n",
    "else:\n",
    "  print('loop ends here')"
   ]
  },
  {
   "cell_type": "code",
   "execution_count": 12,
   "metadata": {},
   "outputs": [],
   "source": [
    "# search for a number x in this tuple using loop\n",
    "\n",
    "tup = (1,2,3,4,5,6,7)\n",
    "\n",
    "target = 45\n",
    "\n",
    "for el in tup:\n",
    "  if (el == target):\n",
    "    print(el)\n",
    "    break"
   ]
  },
  {
   "cell_type": "markdown",
   "metadata": {},
   "source": [
    "Range()"
   ]
  },
  {
   "cell_type": "markdown",
   "metadata": {},
   "source": [
    "Range functions returns a sequence of numbers, starting from 0 by default, and increments by 1 ( by default ), and stops before a specified number."
   ]
  },
  {
   "cell_type": "markdown",
   "metadata": {},
   "source": [
    "```\n",
    "range(start?, stop, step?)\n",
    "```"
   ]
  },
  {
   "cell_type": "code",
   "execution_count": null,
   "metadata": {},
   "outputs": [],
   "source": [
    "# range methods\n",
    "\n",
    "for el in range(5):\n",
    "  print(el)\n",
    "\n",
    "# range with increment\n",
    "\n",
    "for el in range(0, 5, 1):\n",
    "  print(el)"
   ]
  },
  {
   "cell_type": "code",
   "execution_count": null,
   "metadata": {},
   "outputs": [],
   "source": [
    "# search for a number x in this tuple using loop\n",
    "\n",
    "tup = (1,2,3,4,5,6,7)\n",
    "\n",
    "target = 4\n",
    "\n",
    "for index in range(len(tup)):\n",
    "  if (tup[index] == target):\n",
    "    print('index of found', index)\n",
    "    break"
   ]
  },
  {
   "cell_type": "code",
   "execution_count": null,
   "metadata": {},
   "outputs": [],
   "source": [
    "# find the sum of first n numbers\n",
    "\n",
    "number = int(input(\"Enter the limit:\"))\n",
    "i = 0\n",
    "sum = 0\n",
    "while(i <= number):\n",
    "  sum += i\n",
    "  i += 1\n",
    "\n",
    "print(\"sum\", sum) "
   ]
  },
  {
   "cell_type": "code",
   "execution_count": null,
   "metadata": {},
   "outputs": [],
   "source": [
    "# find the factorial of first n numbers ( using for )\n",
    "\n",
    "number = int(input(\"Enter the limit:\"))\n",
    "factorial = 1\n",
    "for ele in range(1, number + 1):\n",
    "  factorial *= ele\n",
    "\n",
    "print(factorial)"
   ]
  }
 ],
 "metadata": {
  "kernelspec": {
   "display_name": "Python 3",
   "language": "python",
   "name": "python3"
  },
  "language_info": {
   "codemirror_mode": {
    "name": "ipython",
    "version": 3
   },
   "file_extension": ".py",
   "mimetype": "text/x-python",
   "name": "python",
   "nbconvert_exporter": "python",
   "pygments_lexer": "ipython3",
   "version": "3.12.0"
  }
 },
 "nbformat": 4,
 "nbformat_minor": 2
}
